{
 "cells": [
  {
   "cell_type": "code",
   "execution_count": 5,
   "metadata": {},
   "outputs": [
    {
     "name": "stdout",
     "output_type": "stream",
     "text": [
      "['C11', 'C21', 'C31']\n",
      "['C11', 'C2', 'C3']\n"
     ]
    }
   ],
   "source": [
    "\"\"\"\n",
    "Lets say i have below list -\n",
    "['C1', 'C2', 'C3']\n",
    " and dict {'C1': 'C11', 'C2': 'C21', 'C3': 'C31'}\n",
    " \n",
    "Output :- ['C11', 'C22', 'C31']\n",
    "\"\"\"\n",
    "\n",
    "l = ['C1', 'C2', 'C3']\n",
    "d = {'C1': 'C11', 'C2': 'C21', 'C3': 'C31'}\n",
    "l1 = [d.get(x) for x in l]\n",
    "print(l1)\n",
    "\n",
    "d1 = {'C1': 'C11'}\n",
    "l2 = [d1.get(x, x) for x in l]\n",
    "print(l2)"
   ]
  },
  {
   "cell_type": "code",
   "execution_count": 8,
   "metadata": {},
   "outputs": [
    {
     "name": "stdout",
     "output_type": "stream",
     "text": [
      "4\n",
      "4\n"
     ]
    }
   ],
   "source": [
    "def f1(x):\n",
    "    return x**2\n",
    "\n",
    "print(f1(2))\n",
    "\n",
    "x1 = lambda x : x**2\n",
    "print(x1(2))"
   ]
  },
  {
   "cell_type": "code",
   "execution_count": 3,
   "metadata": {},
   "outputs": [
    {
     "name": "stdout",
     "output_type": "stream",
     "text": [
      "Requirement already satisfied: pandas in c:\\users\\rakes\\appdata\\local\\programs\\python\\python39\\lib\\site-packages (1.4.2)\n",
      "Requirement already satisfied: pytz>=2020.1 in c:\\users\\rakes\\appdata\\local\\programs\\python\\python39\\lib\\site-packages (from pandas) (2022.1)\n",
      "Requirement already satisfied: numpy>=1.18.5 in c:\\users\\rakes\\appdata\\local\\programs\\python\\python39\\lib\\site-packages (from pandas) (1.22.3)\n",
      "Requirement already satisfied: python-dateutil>=2.8.1 in c:\\users\\rakes\\appdata\\local\\programs\\python\\python39\\lib\\site-packages (from pandas) (2.8.2)\n",
      "Requirement already satisfied: six>=1.5 in c:\\users\\rakes\\appdata\\local\\programs\\python\\python39\\lib\\site-packages (from python-dateutil>=2.8.1->pandas) (1.16.0)\n"
     ]
    },
    {
     "name": "stderr",
     "output_type": "stream",
     "text": [
      "WARNING: You are using pip version 22.0.4; however, version 24.0 is available.\n",
      "You should consider upgrading via the 'c:\\users\\rakes\\appdata\\local\\programs\\python\\python39\\python.exe -m pip install --upgrade pip' command.\n"
     ]
    }
   ],
   "source": [
    "!pip install pandas"
   ]
  },
  {
   "cell_type": "code",
   "execution_count": 14,
   "metadata": {},
   "outputs": [
    {
     "data": {
      "text/html": [
       "<div>\n",
       "<style scoped>\n",
       "    .dataframe tbody tr th:only-of-type {\n",
       "        vertical-align: middle;\n",
       "    }\n",
       "\n",
       "    .dataframe tbody tr th {\n",
       "        vertical-align: top;\n",
       "    }\n",
       "\n",
       "    .dataframe thead th {\n",
       "        text-align: right;\n",
       "    }\n",
       "</style>\n",
       "<table border=\"1\" class=\"dataframe\">\n",
       "  <thead>\n",
       "    <tr style=\"text-align: right;\">\n",
       "      <th></th>\n",
       "      <th>1</th>\n",
       "      <th>2</th>\n",
       "      <th>3</th>\n",
       "      <th>4</th>\n",
       "      <th>5</th>\n",
       "    </tr>\n",
       "    <tr>\n",
       "      <th>0</th>\n",
       "      <th></th>\n",
       "      <th></th>\n",
       "      <th></th>\n",
       "      <th></th>\n",
       "      <th></th>\n",
       "    </tr>\n",
       "  </thead>\n",
       "  <tbody>\n",
       "    <tr>\n",
       "      <th>John</th>\n",
       "      <td>Doe</td>\n",
       "      <td>30</td>\n",
       "      <td>Sales</td>\n",
       "      <td>60000</td>\n",
       "      <td>2020-01-01</td>\n",
       "    </tr>\n",
       "    <tr>\n",
       "      <th>Jane</th>\n",
       "      <td>Smith</td>\n",
       "      <td>28</td>\n",
       "      <td>Marketing</td>\n",
       "      <td>75000</td>\n",
       "      <td>2018-03-15</td>\n",
       "    </tr>\n",
       "    <tr>\n",
       "      <th>Michael</th>\n",
       "      <td>Johnson</td>\n",
       "      <td>35</td>\n",
       "      <td>Sales</td>\n",
       "      <td>80000</td>\n",
       "      <td>2017-06-10</td>\n",
       "    </tr>\n",
       "    <tr>\n",
       "      <th>Emily</th>\n",
       "      <td>Williams</td>\n",
       "      <td>32</td>\n",
       "      <td>Marketing</td>\n",
       "      <td>72000</td>\n",
       "      <td>2019-02-20</td>\n",
       "    </tr>\n",
       "    <tr>\n",
       "      <th>William</th>\n",
       "      <td>Brown</td>\n",
       "      <td>28</td>\n",
       "      <td>IT</td>\n",
       "      <td>90000</td>\n",
       "      <td>2018-07-05</td>\n",
       "    </tr>\n",
       "    <tr>\n",
       "      <th>Olivia</th>\n",
       "      <td>Jones</td>\n",
       "      <td>40</td>\n",
       "      <td>IT</td>\n",
       "      <td>95000</td>\n",
       "      <td>2015-11-25</td>\n",
       "    </tr>\n",
       "    <tr>\n",
       "      <th>James</th>\n",
       "      <td>Miller</td>\n",
       "      <td>38</td>\n",
       "      <td>Sales</td>\n",
       "      <td>70000</td>\n",
       "      <td>2016-09-12</td>\n",
       "    </tr>\n",
       "    <tr>\n",
       "      <th>Sophia</th>\n",
       "      <td>Davis</td>\n",
       "      <td>29</td>\n",
       "      <td>Marketing</td>\n",
       "      <td>71000</td>\n",
       "      <td>2020-05-30</td>\n",
       "    </tr>\n",
       "    <tr>\n",
       "      <th>Liam</th>\n",
       "      <td>Wilson</td>\n",
       "      <td>31</td>\n",
       "      <td>IT</td>\n",
       "      <td>85000</td>\n",
       "      <td>2019-08-18</td>\n",
       "    </tr>\n",
       "  </tbody>\n",
       "</table>\n",
       "</div>"
      ],
      "text/plain": [
       "                1   2          3      4           5\n",
       "0                                                  \n",
       "John          Doe  30      Sales  60000  2020-01-01\n",
       "Jane        Smith  28  Marketing  75000  2018-03-15\n",
       "Michael   Johnson  35      Sales  80000  2017-06-10\n",
       "Emily    Williams  32  Marketing  72000  2019-02-20\n",
       "William     Brown  28         IT  90000  2018-07-05\n",
       "Olivia      Jones  40         IT  95000  2015-11-25\n",
       "James      Miller  38      Sales  70000  2016-09-12\n",
       "Sophia      Davis  29  Marketing  71000  2020-05-30\n",
       "Liam       Wilson  31         IT  85000  2019-08-18"
      ]
     },
     "execution_count": 14,
     "metadata": {},
     "output_type": "execute_result"
    }
   ],
   "source": [
    "import pandas as pd\n",
    "data = [\n",
    "    (\"John\", \"Doe\", 30, \"Sales\", 60000, \"2020-01-01\"),\n",
    "    (\"Jane\", \"Smith\", 28, \"Marketing\", 75000, \"2018-03-15\"),\n",
    "    (\"Michael\", \"Johnson\", 35, \"Sales\", 80000, \"2017-06-10\"),\n",
    "    (\"Emily\", \"Williams\", 32, \"Marketing\", 72000, \"2019-02-20\"),\n",
    "    (\"William\", \"Brown\", 28, \"IT\", 90000, \"2018-07-05\"),\n",
    "    (\"Olivia\", \"Jones\", 40, \"IT\", 95000, \"2015-11-25\"),\n",
    "    (\"James\", \"Miller\", 38, \"Sales\", 70000, \"2016-09-12\"),\n",
    "    (\"Sophia\", \"Davis\", 29, \"Marketing\", 71000, \"2020-05-30\"),\n",
    "    (\"Liam\", \"Wilson\", 31, \"IT\", 85000, \"2019-08-18\"),\n",
    "]\n",
    "df = pd.DataFrame(data=data)\n",
    "df.set_index([0], inplace=True)\n",
    "df"
   ]
  },
  {
   "cell_type": "code",
   "execution_count": 26,
   "metadata": {},
   "outputs": [
    {
     "name": "stdout",
     "output_type": "stream",
     "text": [
      "   COL1  COL2\n",
      "0     1     5\n",
      "1     2     6\n",
      "2     3     7\n"
     ]
    },
    {
     "data": {
      "text/html": [
       "<div>\n",
       "<style scoped>\n",
       "    .dataframe tbody tr th:only-of-type {\n",
       "        vertical-align: middle;\n",
       "    }\n",
       "\n",
       "    .dataframe tbody tr th {\n",
       "        vertical-align: top;\n",
       "    }\n",
       "\n",
       "    .dataframe thead th {\n",
       "        text-align: right;\n",
       "    }\n",
       "</style>\n",
       "<table border=\"1\" class=\"dataframe\">\n",
       "  <thead>\n",
       "    <tr style=\"text-align: right;\">\n",
       "      <th></th>\n",
       "      <th>COL1</th>\n",
       "      <th>COL2</th>\n",
       "    </tr>\n",
       "  </thead>\n",
       "  <tbody>\n",
       "    <tr>\n",
       "      <th>0</th>\n",
       "      <td>1</td>\n",
       "      <td>6</td>\n",
       "    </tr>\n",
       "    <tr>\n",
       "      <th>1</th>\n",
       "      <td>2</td>\n",
       "      <td>6</td>\n",
       "    </tr>\n",
       "    <tr>\n",
       "      <th>2</th>\n",
       "      <td>3</td>\n",
       "      <td>7</td>\n",
       "    </tr>\n",
       "  </tbody>\n",
       "</table>\n",
       "</div>"
      ],
      "text/plain": [
       "   COL1  COL2\n",
       "0     1     6\n",
       "1     2     6\n",
       "2     3     7"
      ]
     },
     "execution_count": 26,
     "metadata": {},
     "output_type": "execute_result"
    }
   ],
   "source": [
    "d = {'COL1': [1, 2, 3], 'COL2': [5, 6, 7]}\n",
    "df = pd.DataFrame(d)\n",
    "print(df)\n",
    "df.loc[0, 'COL2'] = 6\n",
    "df.head()"
   ]
  },
  {
   "cell_type": "code",
   "execution_count": 2,
   "metadata": {},
   "outputs": [
    {
     "name": "stdout",
     "output_type": "stream",
     "text": [
      "Hello, John!\n"
     ]
    }
   ],
   "source": [
    "import logging\n",
    "import time\n",
    "\n",
    "def logger(func):\n",
    "  \"\"\"\n",
    "  A decorator that logs the execution of a function, including start and end times.\n",
    "  \"\"\"\n",
    "  logging.basicConfig(filename='downloads/mylog.log', level=logging.INFO)\n",
    "\n",
    "  def wrapper(*args, **kwargs):\n",
    "    start_time = time.time()\n",
    "    logging.info(f'Running function: {func.__name__} at {start_time}')\n",
    "    result = func(*args, **kwargs)\n",
    "    end_time = time.time()\n",
    "    logging.info(f'Function {func.__name__} finished at {end_time}')\n",
    "    logging.info(f'Total execution time: {end_time - start_time}')\n",
    "    return result\n",
    "\n",
    "  return wrapper\n",
    "\n",
    "@logger\n",
    "def my_function(name):\n",
    "  \"\"\"\n",
    "  A function that prints a greeting and sleeps for 1 second.\n",
    "  \"\"\"\n",
    "  print(f'Hello, {name}!')\n",
    "  time.sleep(1)\n",
    "\n",
    "my_function('John')\n",
    "\n",
    "# Output in mylog.log:\n",
    "# INFO:root:Running function: my_function at 1678901234.56789\n",
    "# Hello, John!\n",
    "# INFO:root:Function my_function finished at 1678901235.56789\n",
    "# INFO:root:Total execution time: 1.0"
   ]
  },
  {
   "cell_type": "code",
   "execution_count": 1,
   "metadata": {},
   "outputs": [
    {
     "data": {
      "text/plain": [
       "1"
      ]
     },
     "execution_count": 1,
     "metadata": {},
     "output_type": "execute_result"
    }
   ],
   "source": [
    "1"
   ]
  },
  {
   "cell_type": "markdown",
   "metadata": {},
   "source": [
    "# End"
   ]
  }
 ],
 "metadata": {
  "kernelspec": {
   "display_name": "Python 3",
   "language": "python",
   "name": "python3"
  },
  "language_info": {
   "codemirror_mode": {
    "name": "ipython",
    "version": 3
   },
   "file_extension": ".py",
   "mimetype": "text/x-python",
   "name": "python",
   "nbconvert_exporter": "python",
   "pygments_lexer": "ipython3",
   "version": "3.11.0"
  }
 },
 "nbformat": 4,
 "nbformat_minor": 2
}

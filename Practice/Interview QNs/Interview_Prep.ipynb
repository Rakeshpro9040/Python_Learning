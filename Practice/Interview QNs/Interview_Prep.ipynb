{
 "cells": [
  {
   "cell_type": "markdown",
   "metadata": {
    "id": "zew_qZFILsdz"
   },
   "source": [
    "## Note"
   ]
  },
  {
   "cell_type": "markdown",
   "metadata": {
    "id": "LhDtBR86Ludg"
   },
   "source": [
    "Intentionally kept 'Automatically trigger code completions' off from Settings:Editor"
   ]
  },
  {
   "cell_type": "markdown",
   "metadata": {
    "id": "EG5Y8dusOymZ"
   },
   "source": [
    "## Links"
   ]
  },
  {
   "cell_type": "markdown",
   "metadata": {
    "id": "E5j0B3L3O1Bh"
   },
   "source": [
    "https://www.edureka.co/blog/interview-questions/python-interview-questions/"
   ]
  },
  {
   "cell_type": "markdown",
   "metadata": {
    "id": "kSOxPabzoOn_"
   },
   "source": [
    "## Reverse a String"
   ]
  },
  {
   "cell_type": "code",
   "execution_count": 1,
   "metadata": {
    "colab": {
     "base_uri": "https://localhost:8080/",
     "height": 35
    },
    "executionInfo": {
     "elapsed": 29,
     "status": "ok",
     "timestamp": 1717007678175,
     "user": {
      "displayName": "Rakesh Panigrahi",
      "userId": "05924170235759900391"
     },
     "user_tz": -330
    },
    "id": "a3FR1WHUfTD8",
    "outputId": "04537bcd-376f-4c9a-cf48-f555dd551102"
   },
   "outputs": [
    {
     "data": {
      "text/plain": [
       "'CBA'"
      ]
     },
     "execution_count": 1,
     "metadata": {},
     "output_type": "execute_result"
    }
   ],
   "source": [
    "s = 'ABC'\n",
    "s[::-1]"
   ]
  },
  {
   "cell_type": "code",
   "execution_count": 6,
   "metadata": {},
   "outputs": [
    {
     "name": "stdout",
     "output_type": "stream",
     "text": [
      "CBA\n"
     ]
    }
   ],
   "source": [
    "s = 'ABC'\n",
    "s1 = ''\n",
    "\n",
    "for i in s:\n",
    "    s1 = i+s1\n",
    "print(s1)"
   ]
  },
  {
   "cell_type": "markdown",
   "metadata": {
    "id": "con1oj2DojiG"
   },
   "source": [
    "## Check if a Number is Prime"
   ]
  },
  {
   "cell_type": "markdown",
   "metadata": {
    "id": "1N5gCZ2_mI0H"
   },
   "source": [
    "***A prime number is a natural number greater than 1 that has no positive divisors other than 1 and itself. In other words, a prime number is a number that cannot be formed by multiplying two smaller natural numbers. If a number has more than two divisors, it is called a composite number.***"
   ]
  },
  {
   "cell_type": "markdown",
   "metadata": {
    "id": "1BJperRoozsF"
   },
   "source": [
    "1,2,3,5,7,11,13,..."
   ]
  },
  {
   "cell_type": "code",
   "execution_count": null,
   "metadata": {
    "colab": {
     "base_uri": "https://localhost:8080/"
    },
    "executionInfo": {
     "elapsed": 12,
     "status": "ok",
     "timestamp": 1717008539892,
     "user": {
      "displayName": "Rakesh Panigrahi",
      "userId": "05924170235759900391"
     },
     "user_tz": -330
    },
    "id": "65FWZhEJokem",
    "outputId": "56ef33d6-8f02-4417-b3e2-e179681cce0a"
   },
   "outputs": [
    {
     "name": "stdout",
     "output_type": "stream",
     "text": [
      "1\n",
      "2\n"
     ]
    },
    {
     "data": {
      "text/plain": [
       "False"
      ]
     },
     "execution_count": 7,
     "metadata": {},
     "output_type": "execute_result"
    }
   ],
   "source": [
    "def is_prime(n: int) -> bool:\n",
    "  for i in range(1,n):\n",
    "    # print(i)\n",
    "    if n%(i) == 0 and i not in (1,n):\n",
    "      return False\n",
    "  return True\n",
    "\n",
    "is_prime(4)"
   ]
  },
  {
   "cell_type": "code",
   "execution_count": 1,
   "metadata": {
    "colab": {
     "base_uri": "https://localhost:8080/"
    },
    "executionInfo": {
     "elapsed": 12,
     "status": "ok",
     "timestamp": 1717008111799,
     "user": {
      "displayName": "Rakesh Panigrahi",
      "userId": "05924170235759900391"
     },
     "user_tz": -330
    },
    "id": "Xd4uLmKrpz7N",
    "outputId": "b861e401-cd1d-49b1-d65b-57607e33b067"
   },
   "outputs": [
    {
     "name": "stdout",
     "output_type": "stream",
     "text": [
      "0 1\n",
      "1 2\n",
      "2 3\n",
      "3 4\n"
     ]
    }
   ],
   "source": [
    "for i, j in enumerate(range(1,5)):\n",
    "  print(i, j)"
   ]
  },
  {
   "cell_type": "markdown",
   "metadata": {
    "id": "j5Y290Mus8s2"
   },
   "source": [
    "In this corrected version:\n",
    "\n",
    "<br>We handle the cases where n is less than or equal to 1 (not prime).\n",
    "<br>The loop iterates from 2 to the square root of n (inclusive) to check for divisors.\n",
    "<br>If any divisor is found, the function returns False; otherwise, it returns True."
   ]
  },
  {
   "cell_type": "code",
   "execution_count": 7,
   "metadata": {
    "id": "OgaWrA_js4xJ"
   },
   "outputs": [],
   "source": [
    "def is_prime(n: int) -> bool:\n",
    "    if n <= 1:\n",
    "        return False  # 0 and 1 are not prime\n",
    "    for i in range(2, int(n**0.5) + 1):\n",
    "        if n % i == 0:\n",
    "            return False\n",
    "    return True"
   ]
  },
  {
   "cell_type": "code",
   "execution_count": 8,
   "metadata": {
    "colab": {
     "base_uri": "https://localhost:8080/"
    },
    "executionInfo": {
     "elapsed": 457,
     "status": "ok",
     "timestamp": 1720502542377,
     "user": {
      "displayName": "Rakesh",
      "userId": "05924170235759900391"
     },
     "user_tz": -330
    },
    "id": "gJpCXXVGm30Y",
    "outputId": "e970ce9b-a995-43f7-d390-0216c2b82337"
   },
   "outputs": [
    {
     "name": "stdout",
     "output_type": "stream",
     "text": [
      "4.123105625617661\n",
      "4\n"
     ]
    }
   ],
   "source": [
    "n = 17\n",
    "print(n**0.5)\n",
    "print(int(n**0.5))"
   ]
  },
  {
   "cell_type": "markdown",
   "metadata": {
    "id": "Kd_d32XZoruj"
   },
   "source": [
    "## Remove Duplicates from a List"
   ]
  },
  {
   "cell_type": "code",
   "execution_count": null,
   "metadata": {
    "colab": {
     "base_uri": "https://localhost:8080/"
    },
    "executionInfo": {
     "elapsed": 12,
     "status": "ok",
     "timestamp": 1717008960624,
     "user": {
      "displayName": "Rakesh Panigrahi",
      "userId": "05924170235759900391"
     },
     "user_tz": -330
    },
    "id": "cCXs8CtCospZ",
    "outputId": "17b543e8-5d27-45f0-f767-8e122c81fa14"
   },
   "outputs": [
    {
     "data": {
      "text/plain": [
       "[1, 2, 3, 4, 7]"
      ]
     },
     "execution_count": 28,
     "metadata": {},
     "output_type": "execute_result"
    }
   ],
   "source": [
    "l1 = [1,2,1,3,4,7,2]\n",
    "s1 = set(l1)\n",
    "list(s1)"
   ]
  },
  {
   "cell_type": "code",
   "execution_count": null,
   "metadata": {
    "colab": {
     "base_uri": "https://localhost:8080/"
    },
    "executionInfo": {
     "elapsed": 5,
     "status": "ok",
     "timestamp": 1720502117017,
     "user": {
      "displayName": "Rakesh",
      "userId": "05924170235759900391"
     },
     "user_tz": -330
    },
    "id": "Mar_qrC-6mj0",
    "outputId": "405481f8-577d-457c-bbad-1270c7dedecf"
   },
   "outputs": [
    {
     "name": "stdout",
     "output_type": "stream",
     "text": [
      "[1, 2, 3, 4, 5]\n"
     ]
    }
   ],
   "source": [
    "# Original list with duplicates\n",
    "original_list = [1, 2, 3, 4, 5, 3, 2, 1]\n",
    "\n",
    "# Remove duplicates while preserving order\n",
    "unique_list = []\n",
    "for x in original_list:\n",
    "    if x not in unique_list:\n",
    "        unique_list.append(x)\n",
    "\n",
    "print(unique_list)"
   ]
  },
  {
   "cell_type": "markdown",
   "metadata": {
    "id": "yX020h3vGMaD"
   },
   "source": [
    "## Randomize list"
   ]
  },
  {
   "cell_type": "code",
   "execution_count": null,
   "metadata": {
    "colab": {
     "base_uri": "https://localhost:8080/"
    },
    "executionInfo": {
     "elapsed": 11,
     "status": "ok",
     "timestamp": 1718508684843,
     "user": {
      "displayName": "Rakesh Panigrahi",
      "userId": "05924170235759900391"
     },
     "user_tz": -330
    },
    "id": "dWHwhUsSGOJH",
    "outputId": "15382987-fef2-48b2-a6d3-e4e1c22ec7dc"
   },
   "outputs": [
    {
     "data": {
      "text/plain": [
       "[7, 1, 51, 4, 2]"
      ]
     },
     "execution_count": 1,
     "metadata": {},
     "output_type": "execute_result"
    }
   ],
   "source": [
    "import random\n",
    "l = [4,51,2,1,7]\n",
    "random.shuffle(l)\n",
    "l"
   ]
  },
  {
   "cell_type": "markdown",
   "metadata": {
    "id": "Apj1nsp2GjmJ"
   },
   "source": [
    "## Reverse a list"
   ]
  },
  {
   "cell_type": "code",
   "execution_count": null,
   "metadata": {
    "colab": {
     "base_uri": "https://localhost:8080/"
    },
    "executionInfo": {
     "elapsed": 422,
     "status": "ok",
     "timestamp": 1718508756471,
     "user": {
      "displayName": "Rakesh Panigrahi",
      "userId": "05924170235759900391"
     },
     "user_tz": -330
    },
    "id": "1ITNcvdXGaYZ",
    "outputId": "669c011a-ab4e-40bd-970a-0741a0389650"
   },
   "outputs": [
    {
     "data": {
      "text/plain": [
       "[5, 4, 3, 2, 1]"
      ]
     },
     "execution_count": 2,
     "metadata": {},
     "output_type": "execute_result"
    }
   ],
   "source": [
    "l = [1,2,3,4,5]\n",
    "l[::-1]"
   ]
  },
  {
   "cell_type": "markdown",
   "metadata": {
    "id": "lXCbRdTcK189"
   },
   "source": [
    "## Find the Largest Element in a List"
   ]
  },
  {
   "cell_type": "code",
   "execution_count": null,
   "metadata": {
    "colab": {
     "base_uri": "https://localhost:8080/"
    },
    "executionInfo": {
     "elapsed": 458,
     "status": "ok",
     "timestamp": 1718509951498,
     "user": {
      "displayName": "Rakesh Panigrahi",
      "userId": "05924170235759900391"
     },
     "user_tz": -330
    },
    "id": "fmfrQqb6J0Gl",
    "outputId": "60a555b1-0a59-4887-f9ca-caaef6999430"
   },
   "outputs": [
    {
     "data": {
      "text/plain": [
       "99"
      ]
     },
     "execution_count": 13,
     "metadata": {},
     "output_type": "execute_result"
    }
   ],
   "source": [
    "l = [45,89,67,1,99,0,-1]\n",
    "max(l)"
   ]
  },
  {
   "cell_type": "markdown",
   "metadata": {
    "id": "1LJO38_KLqVQ"
   },
   "source": [
    "## Fibonacci Sequence"
   ]
  },
  {
   "cell_type": "markdown",
   "metadata": {
    "id": "k1tJgVKFMJSJ"
   },
   "source": [
    "The sequence follows the rule that each number is equal to the sum of the preceding two numbers. The Fibonacci sequence begins with the following 14 integers: 0, 1, 1, 2, 3, 5, 8, 13, 21, 34, 55, 89, 144, 233 ... Each number, starting with the third, adheres to the prescribed formula."
   ]
  },
  {
   "cell_type": "code",
   "execution_count": null,
   "metadata": {
    "colab": {
     "base_uri": "https://localhost:8080/"
    },
    "executionInfo": {
     "elapsed": 451,
     "status": "ok",
     "timestamp": 1720502485261,
     "user": {
      "displayName": "Rakesh",
      "userId": "05924170235759900391"
     },
     "user_tz": -330
    },
    "id": "6Mz8tsTeLQ21",
    "outputId": "18718885-7547-4c49-9109-7e8b51d58819"
   },
   "outputs": [
    {
     "name": "stdout",
     "output_type": "stream",
     "text": [
      "[0, 1, 1, 2, 3, 5, 8, 13, 21, 34]\n"
     ]
    }
   ],
   "source": [
    "def fib(n):\n",
    "    l = [0, 1]  # Starting list with first two Fibonacci numbers\n",
    "    for i in range(2, n):  # Start loop from index 2\n",
    "        l.append(l[i-1] + l[i-2])  # Append the sum of the last two elements\n",
    "    return l[:n]  # Return the list up to the nth element\n",
    "\n",
    "# Example usage:\n",
    "print(fib(10))  # This will print the first 10 Fibonacci numbers"
   ]
  },
  {
   "cell_type": "markdown",
   "metadata": {
    "id": "8j4S_KrsQzGD"
   },
   "source": [
    "## Fibonacci Sequence - nth"
   ]
  },
  {
   "cell_type": "code",
   "execution_count": null,
   "metadata": {
    "colab": {
     "base_uri": "https://localhost:8080/"
    },
    "executionInfo": {
     "elapsed": 502,
     "status": "ok",
     "timestamp": 1718511455221,
     "user": {
      "displayName": "Rakesh Panigrahi",
      "userId": "05924170235759900391"
     },
     "user_tz": -330
    },
    "id": "kr95-1DOQsWl",
    "outputId": "6377ee87-9ae7-4f88-9c30-15fa2d8aadb1"
   },
   "outputs": [
    {
     "name": "stdout",
     "output_type": "stream",
     "text": [
      "0 1\n",
      "1 1\n",
      "1 1\n",
      "1 2\n",
      "1 2\n",
      "2 3\n",
      "2 3\n",
      "3 5\n",
      "3 5\n",
      "5 8\n",
      "5 8\n",
      "8 13\n",
      "8 13\n",
      "13 21\n",
      "13 21\n",
      "21 34\n",
      "21 34\n",
      "34 55\n",
      "55\n"
     ]
    }
   ],
   "source": [
    "def fibonacci(n):\n",
    "    if n <= 0:\n",
    "        return 0\n",
    "    elif n == 1:\n",
    "        return 1\n",
    "    else:\n",
    "        a, b = 0, 1\n",
    "        for _ in range(n - 1):\n",
    "            print(a,b)\n",
    "            a, b = b, a + b\n",
    "            print(a,b)\n",
    "        return b\n",
    "\n",
    "# Example usage\n",
    "print(fibonacci(10))  # Output: 55"
   ]
  },
  {
   "cell_type": "code",
   "execution_count": null,
   "metadata": {
    "colab": {
     "base_uri": "https://localhost:8080/"
    },
    "executionInfo": {
     "elapsed": 459,
     "status": "ok",
     "timestamp": 1720502457911,
     "user": {
      "displayName": "Rakesh",
      "userId": "05924170235759900391"
     },
     "user_tz": -330
    },
    "id": "4g-Ij9Nf7rd7",
    "outputId": "405fa0df-19bb-44aa-cdf2-dd3dcd849f79"
   },
   "outputs": [
    {
     "name": "stdout",
     "output_type": "stream",
     "text": [
      "[1, 1, 2, 3, 5, 8, 13, 21, 34, 55]\n"
     ]
    }
   ],
   "source": [
    "def fibonaccci(n):\n",
    "  a=1\n",
    "  b=1\n",
    "  l = []\n",
    "  for i in range(n):\n",
    "    l.append(a)\n",
    "    a,b = b,a+b\n",
    "  return l\n",
    "\n",
    "print(fibonaccci(10))"
   ]
  },
  {
   "cell_type": "markdown",
   "metadata": {
    "id": "7Rw6tRneIXGO"
   },
   "source": [
    "## Sum of Digits in an Integer"
   ]
  },
  {
   "cell_type": "code",
   "execution_count": null,
   "metadata": {
    "colab": {
     "base_uri": "https://localhost:8080/"
    },
    "executionInfo": {
     "elapsed": 427,
     "status": "ok",
     "timestamp": 1718593308712,
     "user": {
      "displayName": "Rakesh Panigrahi",
      "userId": "05924170235759900391"
     },
     "user_tz": -330
    },
    "id": "Ut5TDII0IZjV",
    "outputId": "28624bd6-474a-44a1-89f7-673377178dbc"
   },
   "outputs": [
    {
     "name": "stdout",
     "output_type": "stream",
     "text": [
      "12\n"
     ]
    }
   ],
   "source": [
    "d = 174\n",
    "d1 = 0\n",
    "for i in str(d):\n",
    "  d1 += int(i)\n",
    "print(d1)"
   ]
  },
  {
   "cell_type": "code",
   "execution_count": null,
   "metadata": {
    "colab": {
     "base_uri": "https://localhost:8080/"
    },
    "executionInfo": {
     "elapsed": 387,
     "status": "ok",
     "timestamp": 1718593403205,
     "user": {
      "displayName": "Rakesh Panigrahi",
      "userId": "05924170235759900391"
     },
     "user_tz": -330
    },
    "id": "Gc_YPcQHI8Vt",
    "outputId": "c95f2bc2-0391-4c6c-d23b-ad303c478d8c"
   },
   "outputs": [
    {
     "data": {
      "text/plain": [
       "12"
      ]
     },
     "execution_count": 8,
     "metadata": {},
     "output_type": "execute_result"
    }
   ],
   "source": [
    "d = 174\n",
    "(i,j,k) = str(d)\n",
    "t = (int(i),int(j),int(k))\n",
    "sum(t)"
   ]
  },
  {
   "cell_type": "code",
   "execution_count": null,
   "metadata": {
    "colab": {
     "base_uri": "https://localhost:8080/"
    },
    "executionInfo": {
     "elapsed": 404,
     "status": "ok",
     "timestamp": 1718593430730,
     "user": {
      "displayName": "Rakesh Panigrahi",
      "userId": "05924170235759900391"
     },
     "user_tz": -330
    },
    "id": "T9Hu-ydFJkyK",
    "outputId": "ef4f4f17-c7e6-45f1-bf5d-5bbaed28886d"
   },
   "outputs": [
    {
     "name": "stdout",
     "output_type": "stream",
     "text": [
      "12\n"
     ]
    }
   ],
   "source": [
    "def sum_of_digits(n):\n",
    "    return sum(int(digit) for digit in str(n))\n",
    "\n",
    "# Example usage\n",
    "print(sum_of_digits(174))  # Output: 10"
   ]
  },
  {
   "cell_type": "markdown",
   "metadata": {
    "id": "xaMwMNwXJuDw"
   },
   "source": [
    "## Find All Unique Subsets of a Set"
   ]
  },
  {
   "cell_type": "code",
   "execution_count": null,
   "metadata": {
    "colab": {
     "base_uri": "https://localhost:8080/"
    },
    "executionInfo": {
     "elapsed": 434,
     "status": "ok",
     "timestamp": 1718593833052,
     "user": {
      "displayName": "Rakesh Panigrahi",
      "userId": "05924170235759900391"
     },
     "user_tz": -330
    },
    "id": "TqkxHTpWJvUp",
    "outputId": "35eed031-e2de-4997-c350-e80fd5d83593"
   },
   "outputs": [
    {
     "name": "stdout",
     "output_type": "stream",
     "text": [
      "[[], [1], [2], [1, 2], [3], [1, 3], [2, 3], [1, 2, 3]]\n"
     ]
    }
   ],
   "source": [
    "def find_subsets(s):\n",
    "    subsets = [[]]\n",
    "    for elem in s:\n",
    "        subsets += [curr + [elem] for curr in subsets]\n",
    "    return subsets\n",
    "\n",
    "# Example usage\n",
    "print(find_subsets([1, 2, 3]))\n",
    "# Output: [[], [1], [2], [1, 2], [3], [1, 3], [2, 3], [1, 2, 3]]"
   ]
  },
  {
   "cell_type": "markdown",
   "metadata": {
    "id": "ORXtiVTOLV2y"
   },
   "source": [
    "## Two Sum Problem"
   ]
  },
  {
   "cell_type": "code",
   "execution_count": null,
   "metadata": {
    "colab": {
     "base_uri": "https://localhost:8080/"
    },
    "executionInfo": {
     "elapsed": 440,
     "status": "ok",
     "timestamp": 1718594527216,
     "user": {
      "displayName": "Rakesh Panigrahi",
      "userId": "05924170235759900391"
     },
     "user_tz": -330
    },
    "id": "JApkkHkWLW54",
    "outputId": "cd538956-f110-4975-f985-1f6a67a8ce50"
   },
   "outputs": [
    {
     "name": "stdout",
     "output_type": "stream",
     "text": [
      "[1, 2]\n"
     ]
    }
   ],
   "source": [
    "def two_sum(nums, target):\n",
    "    seen = {}\n",
    "    for i, num in enumerate(nums):\n",
    "        complement = target - num\n",
    "        if complement in seen:\n",
    "            return [seen[complement], i]\n",
    "        seen[num] = i\n",
    "    return []\n",
    "\n",
    "# Example usage\n",
    "print(two_sum([2, 7, 11, 15], 18))  # Output: [0, 1]"
   ]
  },
  {
   "cell_type": "markdown",
   "metadata": {
    "id": "SK28RMYAvdLU"
   },
   "source": [
    "## Find Pivot list"
   ]
  },
  {
   "cell_type": "markdown",
   "metadata": {
    "id": "FPvYwyapvnls"
   },
   "source": [
    "https://leetcode.com/problems/find-pivot-index/description/\n",
    "<br>https://www.youtube.com/watch?v=u89i60lYx8U&ab_channel=NeetCode"
   ]
  },
  {
   "cell_type": "code",
   "execution_count": null,
   "metadata": {
    "id": "GlVLI1twvmBE"
   },
   "outputs": [],
   "source": []
  },
  {
   "cell_type": "code",
   "execution_count": null,
   "metadata": {
    "id": "O4vxbm-UvwYs"
   },
   "outputs": [],
   "source": []
  },
  {
   "cell_type": "code",
   "execution_count": null,
   "metadata": {
    "id": "GDcUkescvwh-"
   },
   "outputs": [],
   "source": []
  },
  {
   "cell_type": "markdown",
   "metadata": {
    "id": "ETyTsr4ivw-1"
   },
   "source": [
    "## Revse string without using slicing"
   ]
  },
  {
   "cell_type": "code",
   "execution_count": null,
   "metadata": {
    "id": "PIQqxHcov92v"
   },
   "outputs": [],
   "source": []
  },
  {
   "cell_type": "code",
   "execution_count": null,
   "metadata": {
    "id": "Ct5Sx8Dyv-WF"
   },
   "outputs": [],
   "source": []
  },
  {
   "cell_type": "markdown",
   "metadata": {
    "id": "BJo8SBvhv_Fr"
   },
   "source": [
    "## Find longest integer"
   ]
  },
  {
   "cell_type": "code",
   "execution_count": null,
   "metadata": {
    "colab": {
     "base_uri": "https://localhost:8080/"
    },
    "executionInfo": {
     "elapsed": 7,
     "status": "ok",
     "timestamp": 1721036342878,
     "user": {
      "displayName": "Rakesh",
      "userId": "05924170235759900391"
     },
     "user_tz": -330
    },
    "id": "mI4zQd1kwjqs",
    "outputId": "0b5b95fc-613e-48dd-e964-98e91fc0d749"
   },
   "outputs": [
    {
     "name": "stdout",
     "output_type": "stream",
     "text": [
      "The largest integer from the binary string is: 31\n"
     ]
    }
   ],
   "source": [
    "def largest_integer_from_binary(binary_string):\n",
    "    # Split the string on '0' to get all contiguous substrings of '1'\n",
    "    substrings = binary_string.split('0')\n",
    "\n",
    "    # Initialize the maximum integer value\n",
    "    max_value = 0\n",
    "\n",
    "    # Iterate over the substrings\n",
    "    for substring in substrings:\n",
    "        if substring:  # Check if the substring is not empty\n",
    "            # Convert the substring to an integer and compare with the current max value\n",
    "            int_value = int(substring, 2)\n",
    "            if int_value > max_value:\n",
    "                max_value = int_value\n",
    "\n",
    "    return max_value\n",
    "\n",
    "# Example usage\n",
    "binary_string = \"0000011000011100011111\"\n",
    "result = largest_integer_from_binary(binary_string)\n",
    "print(f\"The largest integer from the binary string is: {result}\")"
   ]
  },
  {
   "cell_type": "code",
   "execution_count": null,
   "metadata": {
    "colab": {
     "base_uri": "https://localhost:8080/",
     "height": 210
    },
    "executionInfo": {
     "elapsed": 481,
     "status": "error",
     "timestamp": 1721036847442,
     "user": {
      "displayName": "Rakesh",
      "userId": "05924170235759900391"
     },
     "user_tz": -330
    },
    "id": "B8h7XNyXwvQh",
    "outputId": "b821aff5-2a8a-44ad-909f-f4d0c93b015a"
   },
   "outputs": [
    {
     "ename": "IndexError",
     "evalue": "string index out of range",
     "output_type": "error",
     "traceback": [
      "\u001b[0;31m---------------------------------------------------------------------------\u001b[0m",
      "\u001b[0;31mIndexError\u001b[0m                                Traceback (most recent call last)",
      "\u001b[0;32m<ipython-input-11-7386476d0152>\u001b[0m in \u001b[0;36m<cell line: 2>\u001b[0;34m()\u001b[0m\n\u001b[1;32m      1\u001b[0m \u001b[0mbinary_string\u001b[0m \u001b[0;34m=\u001b[0m \u001b[0;34m\"0000011000011100011111\"\u001b[0m\u001b[0;34m\u001b[0m\u001b[0;34m\u001b[0m\u001b[0m\n\u001b[0;32m----> 2\u001b[0;31m \u001b[0mbinary_string\u001b[0m\u001b[0;34m[\u001b[0m\u001b[0;36m25\u001b[0m\u001b[0;34m]\u001b[0m\u001b[0;34m\u001b[0m\u001b[0;34m\u001b[0m\u001b[0m\n\u001b[0m\u001b[1;32m      3\u001b[0m \u001b[0;34m\u001b[0m\u001b[0m\n\u001b[1;32m      4\u001b[0m \u001b[0;32mfor\u001b[0m \u001b[0mi\u001b[0m \u001b[0;32min\u001b[0m \u001b[0mrange\u001b[0m\u001b[0;34m(\u001b[0m\u001b[0;36m1\u001b[0m\u001b[0;34m,\u001b[0m \u001b[0mlen\u001b[0m\u001b[0;34m(\u001b[0m\u001b[0mbinary_string\u001b[0m\u001b[0;34m)\u001b[0m\u001b[0;34m)\u001b[0m\u001b[0;34m:\u001b[0m\u001b[0;34m\u001b[0m\u001b[0;34m\u001b[0m\u001b[0m\n\u001b[1;32m      5\u001b[0m   \u001b[0mprint\u001b[0m\u001b[0;34m(\u001b[0m\u001b[0mi\u001b[0m\u001b[0;34m,\u001b[0m \u001b[0mbinary_string\u001b[0m\u001b[0;34m[\u001b[0m\u001b[0mi\u001b[0m\u001b[0;34m]\u001b[0m\u001b[0;34m)\u001b[0m\u001b[0;34m\u001b[0m\u001b[0;34m\u001b[0m\u001b[0m\n",
      "\u001b[0;31mIndexError\u001b[0m: string index out of range"
     ]
    }
   ],
   "source": [
    "binary_string = \"0000011000011100011111\"\n",
    "\n",
    "for i in range(1, len(binary_string)):\n",
    "  print(i, binary_string[i])\n",
    "  # if binary_string[i] == binary_string[i-1]:\n",
    "  #   print(i)"
   ]
  },
  {
   "cell_type": "code",
   "execution_count": 1,
   "metadata": {
    "colab": {
     "base_uri": "https://localhost:8080/"
    },
    "executionInfo": {
     "elapsed": 8,
     "status": "ok",
     "timestamp": 1721187261695,
     "user": {
      "displayName": "Rakesh",
      "userId": "05924170235759900391"
     },
     "user_tz": -330
    },
    "id": "p558BQ19wRPL",
    "outputId": "2a6141c7-6617-4e3c-95e5-2252e74bd18c"
   },
   "outputs": [
    {
     "name": "stdout",
     "output_type": "stream",
     "text": [
      "5\n"
     ]
    }
   ],
   "source": [
    "def maxConsecutiveOnes(binary_string):\n",
    "    # Split the binary string by '0' and find the maximum length of consecutive '1's\n",
    "    return max(map(len, binary_string.split('0')))\n",
    "\n",
    "# Example usage:\n",
    "binary_string = \"0000011000011100011111\"\n",
    "result = maxConsecutiveOnes(binary_string)\n",
    "print(result)  # Output: 5 (for '11111')"
   ]
  },
  {
   "cell_type": "code",
   "execution_count": 3,
   "metadata": {
    "colab": {
     "base_uri": "https://localhost:8080/"
    },
    "executionInfo": {
     "elapsed": 438,
     "status": "ok",
     "timestamp": 1721187339108,
     "user": {
      "displayName": "Rakesh",
      "userId": "05924170235759900391"
     },
     "user_tz": -330
    },
    "id": "tTIwURrhwlqR",
    "outputId": "7dbf6ba7-fe59-42ce-dc04-7a29ae8fb917"
   },
   "outputs": [
    {
     "name": "stdout",
     "output_type": "stream",
     "text": [
      "Longest consecutive sequence: 0\n"
     ]
    }
   ],
   "source": [
    "def find_longest_consecutive_digit(s):\n",
    "    if not s:\n",
    "        return None  # Empty string\n",
    "\n",
    "    longest_digit = None\n",
    "    current_digit = None\n",
    "    current_count = 0\n",
    "    max_count = 0\n",
    "\n",
    "    for digit in s:\n",
    "        if digit == current_digit:\n",
    "            current_count += 1\n",
    "        else:\n",
    "            current_digit = digit\n",
    "            current_count = 1\n",
    "\n",
    "        if current_count > max_count:\n",
    "            max_count = current_count\n",
    "            longest_digit = current_digit\n",
    "\n",
    "    return int(longest_digit * max_count)\n",
    "\n",
    "# Example usage:\n",
    "input_string = '1255555334446666666667'\n",
    "result = find_longest_consecutive_digit(input_string)\n",
    "print(f\"Longest consecutive sequence: {result}\")"
   ]
  }
 ],
 "metadata": {
  "colab": {
   "authorship_tag": "ABX9TyOY2A5l8jGfro5taggMmgYO",
   "provenance": [],
   "toc_visible": true
  },
  "kernelspec": {
   "display_name": "Python 3",
   "name": "python3"
  },
  "language_info": {
   "codemirror_mode": {
    "name": "ipython",
    "version": 3
   },
   "file_extension": ".py",
   "mimetype": "text/x-python",
   "name": "python",
   "nbconvert_exporter": "python",
   "pygments_lexer": "ipython3",
   "version": "3.9.6"
  }
 },
 "nbformat": 4,
 "nbformat_minor": 0
}
